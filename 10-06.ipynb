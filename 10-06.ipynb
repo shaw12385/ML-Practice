{
 "cells": [
  {
   "cell_type": "code",
   "execution_count": 149,
   "metadata": {},
   "outputs": [],
   "source": [
    "import pandas as pd\n",
    "import numpy as np\n"
   ]
  },
  {
   "cell_type": "code",
   "execution_count": 150,
   "metadata": {},
   "outputs": [
    {
     "data": {
      "text/html": [
       "<div>\n",
       "<style scoped>\n",
       "    .dataframe tbody tr th:only-of-type {\n",
       "        vertical-align: middle;\n",
       "    }\n",
       "\n",
       "    .dataframe tbody tr th {\n",
       "        vertical-align: top;\n",
       "    }\n",
       "\n",
       "    .dataframe thead th {\n",
       "        text-align: right;\n",
       "    }\n",
       "</style>\n",
       "<table border=\"1\" class=\"dataframe\">\n",
       "  <thead>\n",
       "    <tr style=\"text-align: right;\">\n",
       "      <th></th>\n",
       "      <th>Country</th>\n",
       "      <th>Population</th>\n",
       "      <th>O+</th>\n",
       "      <th>A+</th>\n",
       "      <th>B+</th>\n",
       "      <th>AB+</th>\n",
       "      <th>O-</th>\n",
       "      <th>A-</th>\n",
       "      <th>B-</th>\n",
       "      <th>AB-</th>\n",
       "    </tr>\n",
       "  </thead>\n",
       "  <tbody>\n",
       "    <tr>\n",
       "      <th>0</th>\n",
       "      <td>Argentina</td>\n",
       "      <td>44,270,440</td>\n",
       "      <td>45.4%</td>\n",
       "      <td>34.26%</td>\n",
       "      <td>8.59%</td>\n",
       "      <td>2.64%</td>\n",
       "      <td>8.4%</td>\n",
       "      <td>0.44%</td>\n",
       "      <td>0.21%</td>\n",
       "      <td>0.06%</td>\n",
       "    </tr>\n",
       "    <tr>\n",
       "      <th>1</th>\n",
       "      <td>Armênia</td>\n",
       "      <td>2,931,568</td>\n",
       "      <td>29.0%</td>\n",
       "      <td>46.3%</td>\n",
       "      <td>12.0%</td>\n",
       "      <td>5.6%</td>\n",
       "      <td>2.0%</td>\n",
       "      <td>3.7%</td>\n",
       "      <td>1.0%</td>\n",
       "      <td>0.4%</td>\n",
       "    </tr>\n",
       "    <tr>\n",
       "      <th>2</th>\n",
       "      <td>Austrália</td>\n",
       "      <td>24,642,693</td>\n",
       "      <td>40.0%</td>\n",
       "      <td>31.0%</td>\n",
       "      <td>8.0%</td>\n",
       "      <td>2.0%</td>\n",
       "      <td>9.0%</td>\n",
       "      <td>7.0%</td>\n",
       "      <td>2.0%</td>\n",
       "      <td>1.0%</td>\n",
       "    </tr>\n",
       "    <tr>\n",
       "      <th>3</th>\n",
       "      <td>Áustria</td>\n",
       "      <td>8,592,470</td>\n",
       "      <td>30.0%</td>\n",
       "      <td>33.0%</td>\n",
       "      <td>12.0%</td>\n",
       "      <td>6.0%</td>\n",
       "      <td>7.0%</td>\n",
       "      <td>8.0%</td>\n",
       "      <td>3.0%</td>\n",
       "      <td>1.0%</td>\n",
       "    </tr>\n",
       "    <tr>\n",
       "      <th>4</th>\n",
       "      <td>Barém</td>\n",
       "      <td>1,418,695</td>\n",
       "      <td>48.48%</td>\n",
       "      <td>19.35%</td>\n",
       "      <td>22.61%</td>\n",
       "      <td>3.67%</td>\n",
       "      <td>3.27%</td>\n",
       "      <td>1.33%</td>\n",
       "      <td>1.04%</td>\n",
       "      <td>0.25%</td>\n",
       "    </tr>\n",
       "  </tbody>\n",
       "</table>\n",
       "</div>"
      ],
      "text/plain": [
       "     Country  Population      O+      A+      B+    AB+     O-     A-     B-  \\\n",
       "0  Argentina  44,270,440   45.4%  34.26%   8.59%  2.64%   8.4%  0.44%  0.21%   \n",
       "1    Armênia   2,931,568   29.0%   46.3%   12.0%   5.6%   2.0%   3.7%   1.0%   \n",
       "2  Austrália  24,642,693   40.0%   31.0%    8.0%   2.0%   9.0%   7.0%   2.0%   \n",
       "3    Áustria   8,592,470   30.0%   33.0%   12.0%   6.0%   7.0%   8.0%   3.0%   \n",
       "4      Barém   1,418,695  48.48%  19.35%  22.61%  3.67%  3.27%  1.33%  1.04%   \n",
       "\n",
       "     AB-  \n",
       "0  0.06%  \n",
       "1   0.4%  \n",
       "2   1.0%  \n",
       "3   1.0%  \n",
       "4  0.25%  "
      ]
     },
     "execution_count": 150,
     "metadata": {},
     "output_type": "execute_result"
    }
   ],
   "source": [
    "df = pd.read_csv('./Data/bloodtypes.csv',index_col=[0]);\n",
    "df.head()"
   ]
  },
  {
   "cell_type": "code",
   "execution_count": 151,
   "metadata": {},
   "outputs": [
    {
     "name": "stdout",
     "output_type": "stream",
     "text": [
      "<class 'pandas.core.frame.DataFrame'>\n",
      "Int64Index: 100 entries, 0 to 99\n",
      "Data columns (total 10 columns):\n",
      " #   Column      Non-Null Count  Dtype \n",
      "---  ------      --------------  ----- \n",
      " 0   Country     100 non-null    object\n",
      " 1   Population  100 non-null    object\n",
      " 2   O+          100 non-null    object\n",
      " 3   A+          100 non-null    object\n",
      " 4   B+          100 non-null    object\n",
      " 5   AB+         100 non-null    object\n",
      " 6   O-          100 non-null    object\n",
      " 7   A-          100 non-null    object\n",
      " 8   B-          100 non-null    object\n",
      " 9   AB-         100 non-null    object\n",
      "dtypes: object(10)\n",
      "memory usage: 8.6+ KB\n"
     ]
    }
   ],
   "source": [
    "df.info()"
   ]
  },
  {
   "cell_type": "code",
   "execution_count": 152,
   "metadata": {},
   "outputs": [
    {
     "data": {
      "text/plain": [
       "0     4.427044e+07\n",
       "1     2.931568e+06\n",
       "2     2.464269e+07\n",
       "3     8.592470e+06\n",
       "4     1.418695e+06\n",
       "          ...     \n",
       "95    3.264815e+08\n",
       "96    3.201108e+07\n",
       "97    9.541464e+07\n",
       "98    1.664288e+07\n",
       "99    6.635281e+09\n",
       "Name: Population, Length: 100, dtype: float64"
      ]
     },
     "execution_count": 152,
     "metadata": {},
     "output_type": "execute_result"
    }
   ],
   "source": [
    "df['Population'].str.replace(',', '').astype(float)"
   ]
  },
  {
   "cell_type": "code",
   "execution_count": 153,
   "metadata": {},
   "outputs": [
    {
     "data": {
      "text/plain": [
       "'1,418,695'"
      ]
     },
     "execution_count": 153,
     "metadata": {},
     "output_type": "execute_result"
    }
   ],
   "source": [
    "df['Population'][4]"
   ]
  },
  {
   "cell_type": "code",
   "execution_count": 154,
   "metadata": {},
   "outputs": [
    {
     "name": "stdout",
     "output_type": "stream",
     "text": [
      "<class 'pandas.core.frame.DataFrame'>\n",
      "Int64Index: 100 entries, 0 to 99\n",
      "Data columns (total 10 columns):\n",
      " #   Column      Non-Null Count  Dtype \n",
      "---  ------      --------------  ----- \n",
      " 0   Country     100 non-null    object\n",
      " 1   Population  100 non-null    object\n",
      " 2   O+          100 non-null    object\n",
      " 3   A+          100 non-null    object\n",
      " 4   B+          100 non-null    object\n",
      " 5   AB+         100 non-null    object\n",
      " 6   O-          100 non-null    object\n",
      " 7   A-          100 non-null    object\n",
      " 8   B-          100 non-null    object\n",
      " 9   AB-         100 non-null    object\n",
      "dtypes: object(10)\n",
      "memory usage: 13.6+ KB\n"
     ]
    }
   ],
   "source": [
    "df.info()"
   ]
  },
  {
   "cell_type": "code",
   "execution_count": 155,
   "metadata": {},
   "outputs": [
    {
     "data": {
      "text/plain": [
       "<bound method NDFrame.describe of            Country     Population      O+      A+      B+    AB+     O-  \\\n",
       "0        Argentina     44,270,440   45.4%  34.26%   8.59%  2.64%   8.4%   \n",
       "1          Armênia      2,931,568   29.0%   46.3%   12.0%   5.6%   2.0%   \n",
       "2        Austrália     24,642,693   40.0%   31.0%    8.0%   2.0%   9.0%   \n",
       "3          Áustria      8,592,470   30.0%   33.0%   12.0%   6.0%   7.0%   \n",
       "4            Barém      1,418,695  48.48%  19.35%  22.61%  3.67%  3.27%   \n",
       "..             ...            ...     ...     ...     ...    ...    ...   \n",
       "95  Estados Unidos    326,481,533   37.4%   35.7%    8.5%   3.4%   6.6%   \n",
       "96       Venezuela     32,011,082   58.5%   28.3%    5.3%   1.8%   3.5%   \n",
       "97          Vietnã     95,414,640   41.7%   21.9%   30.8%  4.98%   0.3%   \n",
       "98        Zimbábue     16,642,880   63.3%   18.5%   14.6%  0.99%   1.7%   \n",
       "99           Mundo  6,635,281,257  38.67%  27.42%  22.02%  5.88%  2.55%   \n",
       "\n",
       "       A-     B-    AB-  \n",
       "0   0.44%  0.21%  0.06%  \n",
       "1    3.7%   1.0%   0.4%  \n",
       "2    7.0%   2.0%   1.0%  \n",
       "3    8.0%   3.0%   1.0%  \n",
       "4   1.33%  1.04%  0.25%  \n",
       "..    ...    ...    ...  \n",
       "95   6.3%   1.5%   0.6%  \n",
       "96   1.7%   0.7%   0.2%  \n",
       "97   0.1%   0.2%  0.02%  \n",
       "98   0.5%   0.4%  0.01%  \n",
       "99  1.99%  1.11%  0.36%  \n",
       "\n",
       "[100 rows x 10 columns]>"
      ]
     },
     "execution_count": 155,
     "metadata": {},
     "output_type": "execute_result"
    }
   ],
   "source": [
    "df.describe"
   ]
  },
  {
   "cell_type": "code",
   "execution_count": 156,
   "metadata": {},
   "outputs": [
    {
     "data": {
      "text/plain": [
       "0        44,270,440\n",
       "1         2,931,568\n",
       "2        24,642,693\n",
       "3         8,592,470\n",
       "4         1,418,695\n",
       "          ...      \n",
       "95      326,481,533\n",
       "96       32,011,082\n",
       "97       95,414,640\n",
       "98       16,642,880\n",
       "99    6,635,281,257\n",
       "Name: Population, Length: 100, dtype: object"
      ]
     },
     "execution_count": 156,
     "metadata": {},
     "output_type": "execute_result"
    }
   ],
   "source": [
    "df['Population']"
   ]
  },
  {
   "cell_type": "code",
   "execution_count": 157,
   "metadata": {},
   "outputs": [],
   "source": [
    "df['Population']=df['Population'].str.replace(',','').astype(float)"
   ]
  },
  {
   "cell_type": "code",
   "execution_count": 158,
   "metadata": {},
   "outputs": [
    {
     "name": "stdout",
     "output_type": "stream",
     "text": [
      "<class 'pandas.core.frame.DataFrame'>\n",
      "Int64Index: 100 entries, 0 to 99\n",
      "Data columns (total 10 columns):\n",
      " #   Column      Non-Null Count  Dtype  \n",
      "---  ------      --------------  -----  \n",
      " 0   Country     100 non-null    object \n",
      " 1   Population  100 non-null    float64\n",
      " 2   O+          100 non-null    object \n",
      " 3   A+          100 non-null    object \n",
      " 4   B+          100 non-null    object \n",
      " 5   AB+         100 non-null    object \n",
      " 6   O-          100 non-null    object \n",
      " 7   A-          100 non-null    object \n",
      " 8   B-          100 non-null    object \n",
      " 9   AB-         100 non-null    object \n",
      "dtypes: float64(1), object(9)\n",
      "memory usage: 13.6+ KB\n"
     ]
    }
   ],
   "source": [
    "df.info()"
   ]
  },
  {
   "cell_type": "code",
   "execution_count": 159,
   "metadata": {},
   "outputs": [
    {
     "data": {
      "text/html": [
       "<div>\n",
       "<style scoped>\n",
       "    .dataframe tbody tr th:only-of-type {\n",
       "        vertical-align: middle;\n",
       "    }\n",
       "\n",
       "    .dataframe tbody tr th {\n",
       "        vertical-align: top;\n",
       "    }\n",
       "\n",
       "    .dataframe thead th {\n",
       "        text-align: right;\n",
       "    }\n",
       "</style>\n",
       "<table border=\"1\" class=\"dataframe\">\n",
       "  <thead>\n",
       "    <tr style=\"text-align: right;\">\n",
       "      <th></th>\n",
       "      <th>Country</th>\n",
       "      <th>Population</th>\n",
       "      <th>O+</th>\n",
       "      <th>A+</th>\n",
       "      <th>B+</th>\n",
       "      <th>AB+</th>\n",
       "      <th>O-</th>\n",
       "      <th>A-</th>\n",
       "      <th>B-</th>\n",
       "      <th>AB-</th>\n",
       "    </tr>\n",
       "  </thead>\n",
       "  <tbody>\n",
       "    <tr>\n",
       "      <th>0</th>\n",
       "      <td>Argentina</td>\n",
       "      <td>44270440.0</td>\n",
       "      <td>45.4%</td>\n",
       "      <td>34.26%</td>\n",
       "      <td>8.59%</td>\n",
       "      <td>2.64%</td>\n",
       "      <td>8.4%</td>\n",
       "      <td>0.44%</td>\n",
       "      <td>0.21%</td>\n",
       "      <td>0.06%</td>\n",
       "    </tr>\n",
       "    <tr>\n",
       "      <th>1</th>\n",
       "      <td>Armênia</td>\n",
       "      <td>2931568.0</td>\n",
       "      <td>29.0%</td>\n",
       "      <td>46.3%</td>\n",
       "      <td>12.0%</td>\n",
       "      <td>5.6%</td>\n",
       "      <td>2.0%</td>\n",
       "      <td>3.7%</td>\n",
       "      <td>1.0%</td>\n",
       "      <td>0.4%</td>\n",
       "    </tr>\n",
       "    <tr>\n",
       "      <th>2</th>\n",
       "      <td>Austrália</td>\n",
       "      <td>24642693.0</td>\n",
       "      <td>40.0%</td>\n",
       "      <td>31.0%</td>\n",
       "      <td>8.0%</td>\n",
       "      <td>2.0%</td>\n",
       "      <td>9.0%</td>\n",
       "      <td>7.0%</td>\n",
       "      <td>2.0%</td>\n",
       "      <td>1.0%</td>\n",
       "    </tr>\n",
       "    <tr>\n",
       "      <th>3</th>\n",
       "      <td>Áustria</td>\n",
       "      <td>8592470.0</td>\n",
       "      <td>30.0%</td>\n",
       "      <td>33.0%</td>\n",
       "      <td>12.0%</td>\n",
       "      <td>6.0%</td>\n",
       "      <td>7.0%</td>\n",
       "      <td>8.0%</td>\n",
       "      <td>3.0%</td>\n",
       "      <td>1.0%</td>\n",
       "    </tr>\n",
       "    <tr>\n",
       "      <th>4</th>\n",
       "      <td>Barém</td>\n",
       "      <td>1418695.0</td>\n",
       "      <td>48.48%</td>\n",
       "      <td>19.35%</td>\n",
       "      <td>22.61%</td>\n",
       "      <td>3.67%</td>\n",
       "      <td>3.27%</td>\n",
       "      <td>1.33%</td>\n",
       "      <td>1.04%</td>\n",
       "      <td>0.25%</td>\n",
       "    </tr>\n",
       "  </tbody>\n",
       "</table>\n",
       "</div>"
      ],
      "text/plain": [
       "     Country  Population      O+      A+      B+    AB+     O-     A-     B-  \\\n",
       "0  Argentina  44270440.0   45.4%  34.26%   8.59%  2.64%   8.4%  0.44%  0.21%   \n",
       "1    Armênia   2931568.0   29.0%   46.3%   12.0%   5.6%   2.0%   3.7%   1.0%   \n",
       "2  Austrália  24642693.0   40.0%   31.0%    8.0%   2.0%   9.0%   7.0%   2.0%   \n",
       "3    Áustria   8592470.0   30.0%   33.0%   12.0%   6.0%   7.0%   8.0%   3.0%   \n",
       "4      Barém   1418695.0  48.48%  19.35%  22.61%  3.67%  3.27%  1.33%  1.04%   \n",
       "\n",
       "     AB-  \n",
       "0  0.06%  \n",
       "1   0.4%  \n",
       "2   1.0%  \n",
       "3   1.0%  \n",
       "4  0.25%  "
      ]
     },
     "execution_count": 159,
     "metadata": {},
     "output_type": "execute_result"
    }
   ],
   "source": [
    "df[:5]"
   ]
  },
  {
   "cell_type": "code",
   "execution_count": 160,
   "metadata": {},
   "outputs": [
    {
     "data": {
      "text/plain": [
       "20098779.759999998"
      ]
     },
     "execution_count": 160,
     "metadata": {},
     "output_type": "execute_result"
    }
   ],
   "source": [
    "(45.4/100)*44270440"
   ]
  },
  {
   "cell_type": "code",
   "execution_count": 161,
   "metadata": {},
   "outputs": [],
   "source": [
    "#df['O+'] = df['O+'].str.replace(\"%\",\"\").astype(float)"
   ]
  },
  {
   "cell_type": "code",
   "execution_count": 162,
   "metadata": {},
   "outputs": [
    {
     "data": {
      "text/plain": [
       "Index(['O+', 'A+', 'B+', 'AB+', 'O-', 'A-', 'B-', 'AB-'], dtype='object')"
      ]
     },
     "execution_count": 162,
     "metadata": {},
     "output_type": "execute_result"
    }
   ],
   "source": [
    "col = df.columns[2::]\n",
    "col.astype(str)\n",
    "col"
   ]
  },
  {
   "cell_type": "code",
   "execution_count": 163,
   "metadata": {},
   "outputs": [],
   "source": [
    "for i in range(len(col)):\n",
    "    df[col[i]] = df[col[i]].str.replace(\"%\",\"\").astype(float)\n",
    "    df[col[i]] = df[col[i]].apply(lambda x: (x/100)*df['Population']);"
   ]
  },
  {
   "cell_type": "code",
   "execution_count": 164,
   "metadata": {},
   "outputs": [
    {
     "name": "stdout",
     "output_type": "stream",
     "text": [
      "<class 'pandas.core.frame.DataFrame'>\n",
      "Int64Index: 100 entries, 0 to 99\n",
      "Data columns (total 10 columns):\n",
      " #   Column      Non-Null Count  Dtype  \n",
      "---  ------      --------------  -----  \n",
      " 0   Country     100 non-null    object \n",
      " 1   Population  100 non-null    float64\n",
      " 2   O+          100 non-null    float64\n",
      " 3   A+          100 non-null    float64\n",
      " 4   B+          100 non-null    float64\n",
      " 5   AB+         100 non-null    float64\n",
      " 6   O-          100 non-null    float64\n",
      " 7   A-          100 non-null    float64\n",
      " 8   B-          100 non-null    float64\n",
      " 9   AB-         100 non-null    float64\n",
      "dtypes: float64(9), object(1)\n",
      "memory usage: 13.6+ KB\n"
     ]
    }
   ],
   "source": [
    "df.info()"
   ]
  },
  {
   "cell_type": "code",
   "execution_count": null,
   "metadata": {},
   "outputs": [],
   "source": []
  },
  {
   "cell_type": "code",
   "execution_count": 165,
   "metadata": {},
   "outputs": [
    {
     "data": {
      "text/html": [
       "<div>\n",
       "<style scoped>\n",
       "    .dataframe tbody tr th:only-of-type {\n",
       "        vertical-align: middle;\n",
       "    }\n",
       "\n",
       "    .dataframe tbody tr th {\n",
       "        vertical-align: top;\n",
       "    }\n",
       "\n",
       "    .dataframe thead th {\n",
       "        text-align: right;\n",
       "    }\n",
       "</style>\n",
       "<table border=\"1\" class=\"dataframe\">\n",
       "  <thead>\n",
       "    <tr style=\"text-align: right;\">\n",
       "      <th></th>\n",
       "      <th>Country</th>\n",
       "      <th>Population</th>\n",
       "      <th>O+</th>\n",
       "      <th>A+</th>\n",
       "      <th>B+</th>\n",
       "      <th>AB+</th>\n",
       "      <th>O-</th>\n",
       "      <th>A-</th>\n",
       "      <th>B-</th>\n",
       "      <th>AB-</th>\n",
       "    </tr>\n",
       "  </thead>\n",
       "  <tbody>\n",
       "    <tr>\n",
       "      <th>0</th>\n",
       "      <td>Argentina</td>\n",
       "      <td>44270440.0</td>\n",
       "      <td>2.009878e+07</td>\n",
       "      <td>1.516705e+07</td>\n",
       "      <td>3.802831e+06</td>\n",
       "      <td>1168739.616</td>\n",
       "      <td>3718716.960</td>\n",
       "      <td>194789.936</td>\n",
       "      <td>92967.924</td>\n",
       "      <td>26562.264</td>\n",
       "    </tr>\n",
       "    <tr>\n",
       "      <th>1</th>\n",
       "      <td>Armênia</td>\n",
       "      <td>2931568.0</td>\n",
       "      <td>1.283843e+07</td>\n",
       "      <td>2.049721e+07</td>\n",
       "      <td>5.312453e+06</td>\n",
       "      <td>2479144.640</td>\n",
       "      <td>885408.800</td>\n",
       "      <td>1638006.280</td>\n",
       "      <td>442704.400</td>\n",
       "      <td>177081.760</td>\n",
       "    </tr>\n",
       "    <tr>\n",
       "      <th>2</th>\n",
       "      <td>Austrália</td>\n",
       "      <td>24642693.0</td>\n",
       "      <td>1.770818e+07</td>\n",
       "      <td>1.372384e+07</td>\n",
       "      <td>3.541635e+06</td>\n",
       "      <td>885408.800</td>\n",
       "      <td>3984339.600</td>\n",
       "      <td>3098930.800</td>\n",
       "      <td>885408.800</td>\n",
       "      <td>442704.400</td>\n",
       "    </tr>\n",
       "    <tr>\n",
       "      <th>3</th>\n",
       "      <td>Áustria</td>\n",
       "      <td>8592470.0</td>\n",
       "      <td>1.328113e+07</td>\n",
       "      <td>1.460925e+07</td>\n",
       "      <td>5.312453e+06</td>\n",
       "      <td>2656226.400</td>\n",
       "      <td>3098930.800</td>\n",
       "      <td>3541635.200</td>\n",
       "      <td>1328113.200</td>\n",
       "      <td>442704.400</td>\n",
       "    </tr>\n",
       "    <tr>\n",
       "      <th>4</th>\n",
       "      <td>Barém</td>\n",
       "      <td>1418695.0</td>\n",
       "      <td>2.146231e+07</td>\n",
       "      <td>8.566330e+06</td>\n",
       "      <td>1.000955e+07</td>\n",
       "      <td>1624725.148</td>\n",
       "      <td>1447643.388</td>\n",
       "      <td>588796.852</td>\n",
       "      <td>460412.576</td>\n",
       "      <td>110676.100</td>\n",
       "    </tr>\n",
       "  </tbody>\n",
       "</table>\n",
       "</div>"
      ],
      "text/plain": [
       "     Country  Population            O+            A+            B+  \\\n",
       "0  Argentina  44270440.0  2.009878e+07  1.516705e+07  3.802831e+06   \n",
       "1    Armênia   2931568.0  1.283843e+07  2.049721e+07  5.312453e+06   \n",
       "2  Austrália  24642693.0  1.770818e+07  1.372384e+07  3.541635e+06   \n",
       "3    Áustria   8592470.0  1.328113e+07  1.460925e+07  5.312453e+06   \n",
       "4      Barém   1418695.0  2.146231e+07  8.566330e+06  1.000955e+07   \n",
       "\n",
       "           AB+           O-           A-           B-         AB-  \n",
       "0  1168739.616  3718716.960   194789.936    92967.924   26562.264  \n",
       "1  2479144.640   885408.800  1638006.280   442704.400  177081.760  \n",
       "2   885408.800  3984339.600  3098930.800   885408.800  442704.400  \n",
       "3  2656226.400  3098930.800  3541635.200  1328113.200  442704.400  \n",
       "4  1624725.148  1447643.388   588796.852   460412.576  110676.100  "
      ]
     },
     "execution_count": 165,
     "metadata": {},
     "output_type": "execute_result"
    }
   ],
   "source": [
    "df.head()"
   ]
  },
  {
   "cell_type": "markdown",
   "metadata": {},
   "source": [
    "# Do Some Visualization"
   ]
  },
  {
   "cell_type": "code",
   "execution_count": 166,
   "metadata": {},
   "outputs": [],
   "source": [
    "import seaborn as sns\n",
    "import matplotlib.pyplot as plt\n",
    "%matplotlib inline\n",
    "sns.set_style(\"darkgrid\")"
   ]
  },
  {
   "cell_type": "code",
   "execution_count": 175,
   "metadata": {},
   "outputs": [
    {
     "data": {
      "image/png": "[encoded data removed]",
      "text/plain": [
       "<Figure size 432x288 with 1 Axes>"
      ]
     },
     "metadata": {},
     "output_type": "display_data"
    }
   ],
   "source": [
    "   "
   ]
  },
  {
   "cell_type": "code",
   "execution_count": 167,
   "metadata": {},
   "outputs": [
    {
     "data": {
      "text/plain": [
       "Country       0\n",
       "Population    0\n",
       "O+            0\n",
       "A+            0\n",
       "B+            0\n",
       "AB+           0\n",
       "O-            0\n",
       "A-            0\n",
       "B-            0\n",
       "AB-           0\n",
       "dtype: int64"
      ]
     },
     "execution_count": 167,
     "metadata": {},
     "output_type": "execute_result"
    }
   ],
   "source": []
  },
  {
   "cell_type": "code",
   "execution_count": null,
   "metadata": {},
   "outputs": [],
   "source": []
  }
 ],
 "metadata": {
  "kernelspec": {
   "display_name": "Python 3",
   "language": "python",
   "name": "python3"
  },
  "language_info": {
   "codemirror_mode": {
    "name": "ipython",
    "version": 3
   },
   "file_extension": ".py",
   "mimetype": "text/x-python",
   "name": "python",
   "nbconvert_exporter": "python",
   "pygments_lexer": "ipython3",
   "version": "3.8.3"
  }
 },
 "nbformat": 4,
 "nbformat_minor": 4
}
